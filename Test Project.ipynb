{
 "cells": [
  {
   "cell_type": "code",
   "execution_count": 1,
   "id": "756e3fb2",
   "metadata": {},
   "outputs": [],
   "source": [
    "# Import the important library\n",
    "import pandas as pd\n",
    "import numpy as np\n",
    "import matplotlib.pyplot as plt\n",
    "import seaborn as sns"
   ]
  },
  {
   "cell_type": "code",
   "execution_count": 6,
   "id": "616e1157",
   "metadata": {},
   "outputs": [],
   "source": [
    "#load the data \n",
    "path = r\"D:/test_set/Test project [data analyst].csv\"\n",
    "df = pd.read_csv(path)"
   ]
  },
  {
   "cell_type": "code",
   "execution_count": 7,
   "id": "53670579",
   "metadata": {},
   "outputs": [
    {
     "data": {
      "text/html": [
       "<div>\n",
       "<style scoped>\n",
       "    .dataframe tbody tr th:only-of-type {\n",
       "        vertical-align: middle;\n",
       "    }\n",
       "\n",
       "    .dataframe tbody tr th {\n",
       "        vertical-align: top;\n",
       "    }\n",
       "\n",
       "    .dataframe thead th {\n",
       "        text-align: right;\n",
       "    }\n",
       "</style>\n",
       "<table border=\"1\" class=\"dataframe\">\n",
       "  <thead>\n",
       "    <tr style=\"text-align: right;\">\n",
       "      <th></th>\n",
       "      <th>Tracking Number</th>\n",
       "      <th>Carrier Name</th>\n",
       "      <th>Service Level</th>\n",
       "      <th>Zones</th>\n",
       "      <th>Weight (lbs)</th>\n",
       "      <th>Dimensions (in)</th>\n",
       "      <th>Charge Type</th>\n",
       "      <th>Charge</th>\n",
       "      <th>Pickup Zipcode</th>\n",
       "      <th>Dropoff Zipcode</th>\n",
       "      <th>Date of Delivery</th>\n",
       "    </tr>\n",
       "  </thead>\n",
       "  <tbody>\n",
       "    <tr>\n",
       "      <th>0</th>\n",
       "      <td>1Z1234567890123458</td>\n",
       "      <td>UPS</td>\n",
       "      <td>Ground</td>\n",
       "      <td>Zone 6</td>\n",
       "      <td>11</td>\n",
       "      <td>12x12x8</td>\n",
       "      <td>Adult Signature Required</td>\n",
       "      <td>11.25</td>\n",
       "      <td>10005</td>\n",
       "      <td>90001</td>\n",
       "      <td>2023-10-25</td>\n",
       "    </tr>\n",
       "    <tr>\n",
       "      <th>1</th>\n",
       "      <td>1Z1234567890123451</td>\n",
       "      <td>FedEx</td>\n",
       "      <td>Ground</td>\n",
       "      <td>Zone 4</td>\n",
       "      <td>5</td>\n",
       "      <td>12x12x8</td>\n",
       "      <td>Additional Tax</td>\n",
       "      <td>5.5</td>\n",
       "      <td>60606</td>\n",
       "      <td>90210</td>\n",
       "      <td>2023-02-15</td>\n",
       "    </tr>\n",
       "    <tr>\n",
       "      <th>2</th>\n",
       "      <td>1Z1234567890123456</td>\n",
       "      <td>OSM</td>\n",
       "      <td>2Day</td>\n",
       "      <td>Zone 3</td>\n",
       "      <td>12</td>\n",
       "      <td>12x12x8</td>\n",
       "      <td>Adjustment</td>\n",
       "      <td>7.5</td>\n",
       "      <td>60601</td>\n",
       "      <td>90210</td>\n",
       "      <td>2023-07-10</td>\n",
       "    </tr>\n",
       "  </tbody>\n",
       "</table>\n",
       "</div>"
      ],
      "text/plain": [
       "      Tracking Number Carrier Name Service Level   Zones Weight (lbs)  \\\n",
       "0  1Z1234567890123458          UPS        Ground  Zone 6           11   \n",
       "1  1Z1234567890123451        FedEx        Ground  Zone 4            5   \n",
       "2  1Z1234567890123456          OSM          2Day  Zone 3           12   \n",
       "\n",
       "  Dimensions (in)               Charge Type Charge  Pickup Zipcode  \\\n",
       "0         12x12x8  Adult Signature Required  11.25           10005   \n",
       "1         12x12x8            Additional Tax    5.5           60606   \n",
       "2         12x12x8                Adjustment    7.5           60601   \n",
       "\n",
       "   Dropoff Zipcode Date of Delivery  \n",
       "0            90001       2023-10-25  \n",
       "1            90210       2023-02-15  \n",
       "2            90210       2023-07-10  "
      ]
     },
     "execution_count": 7,
     "metadata": {},
     "output_type": "execute_result"
    }
   ],
   "source": [
    "#check the few rows of dataframe\n",
    "df.head(3)"
   ]
  },
  {
   "cell_type": "code",
   "execution_count": 14,
   "id": "eefe85da",
   "metadata": {},
   "outputs": [
    {
     "name": "stdout",
     "output_type": "stream",
     "text": [
      "<class 'pandas.core.frame.DataFrame'>\n",
      "RangeIndex: 214 entries, 0 to 213\n",
      "Data columns (total 11 columns):\n",
      " #   Column            Non-Null Count  Dtype \n",
      "---  ------            --------------  ----- \n",
      " 0   Tracking Number   214 non-null    object\n",
      " 1   Carrier Name      214 non-null    object\n",
      " 2   Service Level     214 non-null    object\n",
      " 3   Zones             214 non-null    object\n",
      " 4   Weight (lbs)      214 non-null    object\n",
      " 5   Dimensions (in)   214 non-null    object\n",
      " 6   Charge Type       214 non-null    object\n",
      " 7   Charge            214 non-null    object\n",
      " 8   Pickup Zipcode    214 non-null    int64 \n",
      " 9   Dropoff Zipcode   214 non-null    int64 \n",
      " 10  Date of Delivery  214 non-null    object\n",
      "dtypes: int64(2), object(9)\n",
      "memory usage: 18.5+ KB\n"
     ]
    }
   ],
   "source": [
    "#checing for any null values\n",
    "df.info()"
   ]
  },
  {
   "cell_type": "code",
   "execution_count": 50,
   "id": "4b93a271",
   "metadata": {},
   "outputs": [
    {
     "data": {
      "text/html": [
       "<div>\n",
       "<style scoped>\n",
       "    .dataframe tbody tr th:only-of-type {\n",
       "        vertical-align: middle;\n",
       "    }\n",
       "\n",
       "    .dataframe tbody tr th {\n",
       "        vertical-align: top;\n",
       "    }\n",
       "\n",
       "    .dataframe thead th {\n",
       "        text-align: right;\n",
       "    }\n",
       "</style>\n",
       "<table border=\"1\" class=\"dataframe\">\n",
       "  <thead>\n",
       "    <tr style=\"text-align: right;\">\n",
       "      <th></th>\n",
       "      <th>Tracking Number</th>\n",
       "      <th>Carrier Name</th>\n",
       "      <th>Service Level</th>\n",
       "      <th>Zones</th>\n",
       "      <th>Weight (lbs)</th>\n",
       "      <th>Dimensions (in)</th>\n",
       "      <th>Charge Type</th>\n",
       "      <th>Charge</th>\n",
       "      <th>Pickup Zipcode</th>\n",
       "      <th>Dropoff Zipcode</th>\n",
       "      <th>Date of Delivery</th>\n",
       "    </tr>\n",
       "  </thead>\n",
       "  <tbody>\n",
       "    <tr>\n",
       "      <th>207</th>\n",
       "      <td>2E76543LKJHG</td>\n",
       "      <td>Pandion</td>\n",
       "      <td>Ground</td>\n",
       "      <td>3</td>\n",
       "      <td>4 lbs</td>\n",
       "      <td>12x12x8</td>\n",
       "      <td>Future Day Pickup - Additional Handling - Week...</td>\n",
       "      <td>$25.00</td>\n",
       "      <td>30301</td>\n",
       "      <td>94101</td>\n",
       "      <td>2031-08-18</td>\n",
       "    </tr>\n",
       "    <tr>\n",
       "      <th>208</th>\n",
       "      <td>3F43210MNBVC</td>\n",
       "      <td>Maergo</td>\n",
       "      <td>Economy</td>\n",
       "      <td>2</td>\n",
       "      <td>4 lbs</td>\n",
       "      <td>12x12x8</td>\n",
       "      <td>Future Day Pickup - Additional Handling - Week...</td>\n",
       "      <td>$25.00</td>\n",
       "      <td>94105</td>\n",
       "      <td>10003</td>\n",
       "      <td>2031-09-30</td>\n",
       "    </tr>\n",
       "    <tr>\n",
       "      <th>209</th>\n",
       "      <td>4G10987ZXCVB</td>\n",
       "      <td>UPS</td>\n",
       "      <td>Standard</td>\n",
       "      <td>4</td>\n",
       "      <td>5 lbs</td>\n",
       "      <td>12x12x8</td>\n",
       "      <td>Future Day Pickup - Additional Handling - Week...</td>\n",
       "      <td>$30.00</td>\n",
       "      <td>75201</td>\n",
       "      <td>60605</td>\n",
       "      <td>2031-10-10</td>\n",
       "    </tr>\n",
       "  </tbody>\n",
       "</table>\n",
       "</div>"
      ],
      "text/plain": [
       "    Tracking Number Carrier Name Service Level Zones Weight (lbs)  \\\n",
       "207    2E76543LKJHG      Pandion        Ground     3        4 lbs   \n",
       "208    3F43210MNBVC       Maergo       Economy     2        4 lbs   \n",
       "209    4G10987ZXCVB          UPS      Standard     4        5 lbs   \n",
       "\n",
       "    Dimensions (in)                                        Charge Type  \\\n",
       "207         12x12x8  Future Day Pickup - Additional Handling - Week...   \n",
       "208         12x12x8  Future Day Pickup - Additional Handling - Week...   \n",
       "209         12x12x8  Future Day Pickup - Additional Handling - Week...   \n",
       "\n",
       "     Charge  Pickup Zipcode  Dropoff Zipcode Date of Delivery  \n",
       "207  $25.00           30301            94101       2031-08-18  \n",
       "208  $25.00           94105            10003       2031-09-30  \n",
       "209  $30.00           75201            60605       2031-10-10  "
      ]
     },
     "execution_count": 50,
     "metadata": {},
     "output_type": "execute_result"
    }
   ],
   "source": [
    "#Checking if any duplicate id is present \n",
    "duplicate = df.duplicated(['Tracking Number'])\n",
    "duplicate_check = df[duplicate]\n",
    "duplicate_check"
   ]
  },
  {
   "cell_type": "code",
   "execution_count": 57,
   "id": "2fa965a6",
   "metadata": {},
   "outputs": [
    {
     "name": "stdout",
     "output_type": "stream",
     "text": [
      "    Tracking Number Carrier Name Service Level Zones Weight (lbs)  \\\n",
      "77     2E76543LKJHG       OnTrac        Ground     2        4 lbs   \n",
      "207    2E76543LKJHG      Pandion        Ground     3        4 lbs   \n",
      "\n",
      "    Dimensions (in)                                        Charge Type  \\\n",
      "77          12x12x8                                     Declared Value   \n",
      "207         12x12x8  Future Day Pickup - Additional Handling - Week...   \n",
      "\n",
      "     Charge  Pickup Zipcode  Dropoff Zipcode Date of Delivery  \n",
      "77   $25.00           85005            94102       2023-10-15  \n",
      "207  $25.00           30301            94101       2031-08-18  \n",
      "    Tracking Number Carrier Name Service Level Zones Weight (lbs)  \\\n",
      "78     3F43210MNBVC          GLS       Economy     5        4 lbs   \n",
      "208    3F43210MNBVC       Maergo       Economy     2        4 lbs   \n",
      "\n",
      "    Dimensions (in)                                        Charge Type  \\\n",
      "78          12x12x8                              Declared Value Charge   \n",
      "208         12x12x8  Future Day Pickup - Additional Handling - Week...   \n",
      "\n",
      "     Charge  Pickup Zipcode  Dropoff Zipcode Date of Delivery  \n",
      "78   $25.00           60606            30301       2023-11-20  \n",
      "208  $25.00           94105            10003       2031-09-30  \n",
      "    Tracking Number  Carrier Name Service Level Zones Weight (lbs)  \\\n",
      "79     4G10987ZXCVB  BetterTrucks      Standard     1        4 lbs   \n",
      "209    4G10987ZXCVB           UPS      Standard     4        5 lbs   \n",
      "\n",
      "    Dimensions (in)                                        Charge Type  \\\n",
      "79          12x12x8                            Delivery Area Surcharge   \n",
      "209         12x12x8  Future Day Pickup - Additional Handling - Week...   \n",
      "\n",
      "     Charge  Pickup Zipcode  Dropoff Zipcode Date of Delivery  \n",
      "79   $25.00           10010            20002       2023-12-25  \n",
      "209  $30.00           75201            60605       2031-10-10  \n"
     ]
    }
   ],
   "source": [
    "for items in duplicate_check[\"Tracking Number\"]:\n",
    "    all_items = df[\"Tracking Number\"] == items\n",
    "    print(df[all_items])"
   ]
  },
  {
   "cell_type": "code",
   "execution_count": null,
   "id": "6d02794b",
   "metadata": {},
   "outputs": [],
   "source": [
    "# from the above information we can clearly see that the same parcel get picked by other carrier and have different charge "
   ]
  },
  {
   "cell_type": "code",
   "execution_count": 68,
   "id": "39f48e06",
   "metadata": {},
   "outputs": [
    {
     "data": {
      "text/plain": [
       "Index(['Tracking Number', 'Carrier Name', 'Service Level', 'Zones',\n",
       "       'Weight (lbs)', 'Dimensions (in)', 'Charge Type', 'Charge',\n",
       "       'Pickup Zipcode', 'Dropoff Zipcode', 'Date of Delivery'],\n",
       "      dtype='object')"
      ]
     },
     "execution_count": 68,
     "metadata": {},
     "output_type": "execute_result"
    }
   ],
   "source": [
    "#checking the name of the columns\n",
    "column = df.columns\n",
    "column"
   ]
  },
  {
   "cell_type": "code",
   "execution_count": 72,
   "id": "d9e98e93",
   "metadata": {},
   "outputs": [],
   "source": [
    "#now I will check for unique value in each column, I have already check the tracking number now check the carrier name\n",
    "carrier = df['Carrier Name'].unique()\n",
    "service = df['Service Level'].unique()\n",
    "zones = df['Zones'].unique()    \n",
    "weight = df['Weight (lbs)'].unique() \n",
    "dim = df['Dimensions (in)'].unique() \n",
    "charge_type = df['Charge Type'].unique()\n",
    "charge = df['Charge'].unique()\n",
    "pickup = df['Pickup Zipcode'].unique()\n",
    "dropoff = df['Dropoff Zipcode'].unique()\n",
    "    "
   ]
  },
  {
   "cell_type": "code",
   "execution_count": 73,
   "id": "fbc4cfc6",
   "metadata": {},
   "outputs": [
    {
     "data": {
      "text/plain": [
       "array(['UPS', 'FedEx', 'OSM', 'GLS', 'BetterTrucks', 'DHL', 'Pandion',\n",
       "       'OnTrac', 'Fedex', 'Maergo'], dtype=object)"
      ]
     },
     "execution_count": 73,
     "metadata": {},
     "output_type": "execute_result"
    }
   ],
   "source": [
    "carrier\n"
   ]
  },
  {
   "cell_type": "code",
   "execution_count": 88,
   "id": "10c651f2",
   "metadata": {},
   "outputs": [
    {
     "data": {
      "text/plain": [
       "array(['UPS', 'FedEx', 'OSM', 'GLS', 'BetterTrucks', 'DHL', 'Pandion',\n",
       "       'OnTrac', 'Maergo'], dtype=object)"
      ]
     },
     "execution_count": 88,
     "metadata": {},
     "output_type": "execute_result"
    }
   ],
   "source": [
    "#can see the value of FedEX and Fedex are same\n",
    "df[\"Carrier Name\"] = df[\"Carrier Name\"].replace('Fedex', 'FedEx')\n",
    "df[\"Carrier Name\"].unique()"
   ]
  },
  {
   "cell_type": "code",
   "execution_count": 89,
   "id": "b3913247",
   "metadata": {},
   "outputs": [
    {
     "data": {
      "text/plain": [
       "array(['Ground', '2Day', 'Next Day Air', 'Standard', 'Express',\n",
       "       'Priority', 'Economy', 'Expedited'], dtype=object)"
      ]
     },
     "execution_count": 89,
     "metadata": {},
     "output_type": "execute_result"
    }
   ],
   "source": [
    "service\n",
    "# I will now change the value of 2day to same day\n"
   ]
  },
  {
   "cell_type": "code",
   "execution_count": 99,
   "id": "27ccc5a4",
   "metadata": {},
   "outputs": [
    {
     "data": {
      "text/plain": [
       "array(['Ground', 'Same day', 'Next Day Air', 'Standard', 'Express',\n",
       "       'Priority', 'Economy', 'Expedited'], dtype=object)"
      ]
     },
     "execution_count": 99,
     "metadata": {},
     "output_type": "execute_result"
    }
   ],
   "source": [
    "df[\"Service Level\"] = df[\"Service Level\"].replace('2Day', 'Same day')\n",
    "df['Service Level'].unique()"
   ]
  },
  {
   "cell_type": "code",
   "execution_count": 106,
   "id": "d4e79fb1",
   "metadata": {},
   "outputs": [],
   "source": [
    "zones\n",
    "#non uniform data of Zone\n",
    "df[\"Zones\"] = df['Zones'].replace(('1','2','3','4','5') ,('Zone 1', 'Zone 2', 'Zone 3', 'Zone 4', 'Zone 5'))"
   ]
  },
  {
   "cell_type": "code",
   "execution_count": 107,
   "id": "82db39d2",
   "metadata": {},
   "outputs": [
    {
     "data": {
      "text/plain": [
       "array(['Zone 6', 'Zone 4', 'Zone 3', 'Zone 1', 'Zone 2', 'Zone 5'],\n",
       "      dtype=object)"
      ]
     },
     "execution_count": 107,
     "metadata": {},
     "output_type": "execute_result"
    }
   ],
   "source": [
    "df['Zones'].unique()"
   ]
  },
  {
   "cell_type": "code",
   "execution_count": 108,
   "id": "b1564e94",
   "metadata": {},
   "outputs": [
    {
     "data": {
      "text/plain": [
       "array(['11', '5', '12', '7', '8', '6', '10', '9', '4', '4 lbs', '5 lbs',\n",
       "       '6 lbs', '7 lbs', '8 lbs'], dtype=object)"
      ]
     },
     "execution_count": 108,
     "metadata": {},
     "output_type": "execute_result"
    }
   ],
   "source": [
    "#now I will check the weight of column\n",
    "weight\n",
    "#some values in lbs or some without lbs, since we know the weight column in lbs unit so will will remove the lbs unit from rows"
   ]
  },
  {
   "cell_type": "code",
   "execution_count": 109,
   "id": "c14a0422",
   "metadata": {},
   "outputs": [],
   "source": [
    "df['Weight (lbs)'] = df['Weight (lbs)'].replace(('4 lbs', '5 lbs', '6 lbs', '7 lbs', '8 lbs'), ('4', '5', '6', '7', '8'))"
   ]
  },
  {
   "cell_type": "code",
   "execution_count": 119,
   "id": "ebbc72ad",
   "metadata": {},
   "outputs": [],
   "source": [
    "#Changing the data type of the column \n",
    "df['Weight (lbs)'] =df['Weight (lbs)'].astype(int)\n"
   ]
  },
  {
   "cell_type": "code",
   "execution_count": 120,
   "id": "f7bcea02",
   "metadata": {},
   "outputs": [
    {
     "data": {
      "text/plain": [
       "array([11,  5, 12,  7,  8,  6, 10,  9,  4])"
      ]
     },
     "execution_count": 120,
     "metadata": {},
     "output_type": "execute_result"
    }
   ],
   "source": [
    "df['Weight (lbs)'].unique()"
   ]
  },
  {
   "cell_type": "code",
   "execution_count": 111,
   "id": "0928b8e8",
   "metadata": {},
   "outputs": [
    {
     "data": {
      "text/plain": [
       "array(['12x12x8', '10x10x6', '12x10x6', '14x14x10', '16x16x12', '12x8x6',\n",
       "       '12x10x8', '14x12x10', '14x12x8'], dtype=object)"
      ]
     },
     "execution_count": 111,
     "metadata": {},
     "output_type": "execute_result"
    }
   ],
   "source": [
    "dim\n",
    "#No need to change anything in dimension column"
   ]
  },
  {
   "cell_type": "code",
   "execution_count": 122,
   "id": "02db4b39",
   "metadata": {},
   "outputs": [
    {
     "data": {
      "text/plain": [
       "array(['11.25', '5.5', '7.5', '9', '10', '6.25', '7.25', '12.75', '8.75',\n",
       "       '8.25', '11.5', '7.75', '10.75', '12', '6.5', '9.5', '$25.00',\n",
       "       '$30.00', '$28.50', '$32.00', '$27.00', '$25.50', '$35.00',\n",
       "       '$26.75', '$29.25', '$27.50', '$26.00'], dtype=object)"
      ]
     },
     "execution_count": 122,
     "metadata": {},
     "output_type": "execute_result"
    }
   ],
   "source": [
    "charge\n",
    "#Again some values in $ some are without $ so we will make all the values without $"
   ]
  },
  {
   "cell_type": "code",
   "execution_count": 127,
   "id": "1377fd51",
   "metadata": {},
   "outputs": [],
   "source": [
    "df['Charge'] = df['Charge'].replace(('$25.00',\n",
    "       '$30.00', '$28.50', '$32.00', '$27.00', '$25.50', '$35.00',\n",
    "       '$26.75', '$29.25', '$27.50', '$26.00'), ('25.00',\n",
    "       '30.00', '28.50', '32.00', '27.00', '25.50', '35.00',\n",
    "       '26.75', '29.25', '27.50', '26.00'))"
   ]
  },
  {
   "cell_type": "code",
   "execution_count": 128,
   "id": "81c8024f",
   "metadata": {},
   "outputs": [
    {
     "data": {
      "text/plain": [
       "array(['11.25', '5.5', '7.5', '9', '10', '6.25', '7.25', '12.75', '8.75',\n",
       "       '8.25', '11.5', '7.75', '10.75', '12', '6.5', '9.5', '25.00',\n",
       "       '30.00', '28.50', '32.00', '27.00', '25.50', '35.00', '26.75',\n",
       "       '29.25', '27.50', '26.00'], dtype=object)"
      ]
     },
     "execution_count": 128,
     "metadata": {},
     "output_type": "execute_result"
    }
   ],
   "source": [
    "df['Charge'].unique()"
   ]
  },
  {
   "cell_type": "code",
   "execution_count": 129,
   "id": "171abb47",
   "metadata": {},
   "outputs": [],
   "source": [
    "df['Charge'] = df['Charge'].astype(float)"
   ]
  },
  {
   "cell_type": "code",
   "execution_count": 130,
   "id": "0cc72cda",
   "metadata": {},
   "outputs": [
    {
     "data": {
      "text/plain": [
       "array([11.25,  5.5 ,  7.5 ,  9.  , 10.  ,  6.25,  7.25, 12.75,  8.75,\n",
       "        8.25, 11.5 ,  7.75, 10.75, 12.  ,  6.5 ,  9.5 , 25.  , 30.  ,\n",
       "       28.5 , 32.  , 27.  , 25.5 , 35.  , 26.75, 29.25, 27.5 , 26.  ])"
      ]
     },
     "execution_count": 130,
     "metadata": {},
     "output_type": "execute_result"
    }
   ],
   "source": [
    "df['Charge'].unique()"
   ]
  },
  {
   "cell_type": "code",
   "execution_count": 131,
   "id": "1bab5313",
   "metadata": {},
   "outputs": [
    {
     "data": {
      "text/plain": [
       "array([10005, 60606, 60601, 90001, 90002, 90210, 30303, 85001, 20001,\n",
       "       90010, 75202, 60610, 30302, 85005, 94101, 20002, 60605, 10001,\n",
       "       90005, 94102, 75201, 60602, 85002, 10010, 30301, 94105, 20003],\n",
       "      dtype=int64)"
      ]
     },
     "execution_count": 131,
     "metadata": {},
     "output_type": "execute_result"
    }
   ],
   "source": [
    "pickup"
   ]
  },
  {
   "cell_type": "code",
   "execution_count": 132,
   "id": "145b205f",
   "metadata": {},
   "outputs": [
    {
     "data": {
      "text/plain": [
       "array([90001, 90210, 90002, 60606, 60601, 30303, 10005, 10001, 94102,\n",
       "       75201, 30301, 60605, 80202, 20001, 94105, 10002, 20002, 90005,\n",
       "       30305, 85002, 20003, 90010, 80201, 30302, 94101, 85005, 30304,\n",
       "       10003, 85001, 60602], dtype=int64)"
      ]
     },
     "execution_count": 132,
     "metadata": {},
     "output_type": "execute_result"
    }
   ],
   "source": [
    "dropoff"
   ]
  },
  {
   "cell_type": "markdown",
   "id": "bd480503",
   "metadata": {},
   "source": [
    "The values of pickup and dropoff column looks fine so we will skip this column and continue with our clean dataframe"
   ]
  },
  {
   "cell_type": "code",
   "execution_count": 135,
   "id": "8066b1db",
   "metadata": {},
   "outputs": [
    {
     "name": "stdout",
     "output_type": "stream",
     "text": [
      "<class 'pandas.core.frame.DataFrame'>\n",
      "RangeIndex: 214 entries, 0 to 213\n",
      "Data columns (total 11 columns):\n",
      " #   Column            Non-Null Count  Dtype  \n",
      "---  ------            --------------  -----  \n",
      " 0   Tracking Number   214 non-null    object \n",
      " 1   Carrier Name      214 non-null    object \n",
      " 2   Service Level     214 non-null    object \n",
      " 3   Zones             214 non-null    object \n",
      " 4   Weight (lbs)      214 non-null    int32  \n",
      " 5   Dimensions (in)   214 non-null    object \n",
      " 6   Charge Type       214 non-null    object \n",
      " 7   Charge            214 non-null    float64\n",
      " 8   Pickup Zipcode    214 non-null    int64  \n",
      " 9   Dropoff Zipcode   214 non-null    int64  \n",
      " 10  Date of Delivery  214 non-null    object \n",
      "dtypes: float64(1), int32(1), int64(2), object(7)\n",
      "memory usage: 17.7+ KB\n"
     ]
    }
   ],
   "source": [
    "df.info()"
   ]
  },
  {
   "cell_type": "markdown",
   "id": "dc735394",
   "metadata": {},
   "source": [
    "Now you can see how we change the datatype of the certain columns change and we have clean dataframe to utilize further analysis"
   ]
  },
  {
   "cell_type": "code",
   "execution_count": 139,
   "id": "1cd4c6ed",
   "metadata": {},
   "outputs": [
    {
     "data": {
      "text/html": [
       "<div>\n",
       "<style scoped>\n",
       "    .dataframe tbody tr th:only-of-type {\n",
       "        vertical-align: middle;\n",
       "    }\n",
       "\n",
       "    .dataframe tbody tr th {\n",
       "        vertical-align: top;\n",
       "    }\n",
       "\n",
       "    .dataframe thead th {\n",
       "        text-align: right;\n",
       "    }\n",
       "</style>\n",
       "<table border=\"1\" class=\"dataframe\">\n",
       "  <thead>\n",
       "    <tr style=\"text-align: right;\">\n",
       "      <th></th>\n",
       "      <th>Tracking Number</th>\n",
       "      <th>Carrier Name</th>\n",
       "      <th>Service Level</th>\n",
       "      <th>Zones</th>\n",
       "      <th>Weight (lbs)</th>\n",
       "      <th>Dimensions (in)</th>\n",
       "      <th>Charge Type</th>\n",
       "      <th>Charge ($)</th>\n",
       "      <th>Pickup Zipcode</th>\n",
       "      <th>Dropoff Zipcode</th>\n",
       "      <th>Date of Delivery</th>\n",
       "    </tr>\n",
       "  </thead>\n",
       "  <tbody>\n",
       "    <tr>\n",
       "      <th>0</th>\n",
       "      <td>1Z1234567890123458</td>\n",
       "      <td>UPS</td>\n",
       "      <td>Ground</td>\n",
       "      <td>Zone 6</td>\n",
       "      <td>11</td>\n",
       "      <td>12x12x8</td>\n",
       "      <td>Adult Signature Required</td>\n",
       "      <td>11.25</td>\n",
       "      <td>10005</td>\n",
       "      <td>90001</td>\n",
       "      <td>2023-10-25</td>\n",
       "    </tr>\n",
       "    <tr>\n",
       "      <th>1</th>\n",
       "      <td>1Z1234567890123451</td>\n",
       "      <td>FedEx</td>\n",
       "      <td>Ground</td>\n",
       "      <td>Zone 4</td>\n",
       "      <td>5</td>\n",
       "      <td>12x12x8</td>\n",
       "      <td>Additional Tax</td>\n",
       "      <td>5.50</td>\n",
       "      <td>60606</td>\n",
       "      <td>90210</td>\n",
       "      <td>2023-02-15</td>\n",
       "    </tr>\n",
       "    <tr>\n",
       "      <th>2</th>\n",
       "      <td>1Z1234567890123456</td>\n",
       "      <td>OSM</td>\n",
       "      <td>Same day</td>\n",
       "      <td>Zone 3</td>\n",
       "      <td>12</td>\n",
       "      <td>12x12x8</td>\n",
       "      <td>Adjustment</td>\n",
       "      <td>7.50</td>\n",
       "      <td>60601</td>\n",
       "      <td>90210</td>\n",
       "      <td>2023-07-10</td>\n",
       "    </tr>\n",
       "    <tr>\n",
       "      <th>3</th>\n",
       "      <td>1Z1234567890123459</td>\n",
       "      <td>UPS</td>\n",
       "      <td>Ground</td>\n",
       "      <td>Zone 6</td>\n",
       "      <td>11</td>\n",
       "      <td>12x12x8</td>\n",
       "      <td>Adult Signature Required</td>\n",
       "      <td>11.25</td>\n",
       "      <td>10005</td>\n",
       "      <td>90001</td>\n",
       "      <td>2023-10-25</td>\n",
       "    </tr>\n",
       "    <tr>\n",
       "      <th>4</th>\n",
       "      <td>1Z1234567890123454</td>\n",
       "      <td>GLS</td>\n",
       "      <td>Next Day Air</td>\n",
       "      <td>Zone 1</td>\n",
       "      <td>7</td>\n",
       "      <td>12x12x8</td>\n",
       "      <td>Addl. Handling Weight</td>\n",
       "      <td>9.00</td>\n",
       "      <td>10005</td>\n",
       "      <td>90002</td>\n",
       "      <td>2023-05-30</td>\n",
       "    </tr>\n",
       "  </tbody>\n",
       "</table>\n",
       "</div>"
      ],
      "text/plain": [
       "      Tracking Number Carrier Name Service Level   Zones  Weight (lbs)  \\\n",
       "0  1Z1234567890123458          UPS        Ground  Zone 6            11   \n",
       "1  1Z1234567890123451        FedEx        Ground  Zone 4             5   \n",
       "2  1Z1234567890123456          OSM      Same day  Zone 3            12   \n",
       "3  1Z1234567890123459          UPS        Ground  Zone 6            11   \n",
       "4  1Z1234567890123454          GLS  Next Day Air  Zone 1             7   \n",
       "\n",
       "  Dimensions (in)               Charge Type  Charge ($)  Pickup Zipcode  \\\n",
       "0         12x12x8  Adult Signature Required       11.25           10005   \n",
       "1         12x12x8            Additional Tax        5.50           60606   \n",
       "2         12x12x8                Adjustment        7.50           60601   \n",
       "3         12x12x8  Adult Signature Required       11.25           10005   \n",
       "4         12x12x8     Addl. Handling Weight        9.00           10005   \n",
       "\n",
       "   Dropoff Zipcode Date of Delivery  \n",
       "0            90001       2023-10-25  \n",
       "1            90210       2023-02-15  \n",
       "2            90210       2023-07-10  \n",
       "3            90001       2023-10-25  \n",
       "4            90002       2023-05-30  "
      ]
     },
     "execution_count": 139,
     "metadata": {},
     "output_type": "execute_result"
    }
   ],
   "source": [
    "#Changing the column name since the charges are in dollar\n",
    "df = df.rename(columns={'Charge': 'Charge ($)'})\n",
    "df.head(5)"
   ]
  },
  {
   "cell_type": "code",
   "execution_count": 293,
   "id": "caf2ddf9",
   "metadata": {},
   "outputs": [],
   "source": [
    " # saving the dataframe\n",
    "df.to_csv('test_project.csv')"
   ]
  },
  {
   "cell_type": "code",
   "execution_count": 273,
   "id": "8be9f284",
   "metadata": {},
   "outputs": [],
   "source": [
    "df_plot = df[['Carrier Name', 'Service Level', 'Weight (lbs)', 'Charge ($)']]"
   ]
  },
  {
   "cell_type": "code",
   "execution_count": 274,
   "id": "411921cc",
   "metadata": {},
   "outputs": [
    {
     "data": {
      "text/html": [
       "<div>\n",
       "<style scoped>\n",
       "    .dataframe tbody tr th:only-of-type {\n",
       "        vertical-align: middle;\n",
       "    }\n",
       "\n",
       "    .dataframe tbody tr th {\n",
       "        vertical-align: top;\n",
       "    }\n",
       "\n",
       "    .dataframe thead th {\n",
       "        text-align: right;\n",
       "    }\n",
       "</style>\n",
       "<table border=\"1\" class=\"dataframe\">\n",
       "  <thead>\n",
       "    <tr style=\"text-align: right;\">\n",
       "      <th></th>\n",
       "      <th>Carrier Name</th>\n",
       "      <th>Service Level</th>\n",
       "      <th>Weight (lbs)</th>\n",
       "      <th>Charge ($)</th>\n",
       "    </tr>\n",
       "  </thead>\n",
       "  <tbody>\n",
       "    <tr>\n",
       "      <th>0</th>\n",
       "      <td>UPS</td>\n",
       "      <td>Ground</td>\n",
       "      <td>11</td>\n",
       "      <td>11.25</td>\n",
       "    </tr>\n",
       "    <tr>\n",
       "      <th>1</th>\n",
       "      <td>FedEx</td>\n",
       "      <td>Ground</td>\n",
       "      <td>5</td>\n",
       "      <td>5.50</td>\n",
       "    </tr>\n",
       "    <tr>\n",
       "      <th>2</th>\n",
       "      <td>OSM</td>\n",
       "      <td>Same day</td>\n",
       "      <td>12</td>\n",
       "      <td>7.50</td>\n",
       "    </tr>\n",
       "    <tr>\n",
       "      <th>3</th>\n",
       "      <td>UPS</td>\n",
       "      <td>Ground</td>\n",
       "      <td>11</td>\n",
       "      <td>11.25</td>\n",
       "    </tr>\n",
       "    <tr>\n",
       "      <th>4</th>\n",
       "      <td>GLS</td>\n",
       "      <td>Next Day Air</td>\n",
       "      <td>7</td>\n",
       "      <td>9.00</td>\n",
       "    </tr>\n",
       "    <tr>\n",
       "      <th>...</th>\n",
       "      <td>...</td>\n",
       "      <td>...</td>\n",
       "      <td>...</td>\n",
       "      <td>...</td>\n",
       "    </tr>\n",
       "    <tr>\n",
       "      <th>209</th>\n",
       "      <td>UPS</td>\n",
       "      <td>Standard</td>\n",
       "      <td>5</td>\n",
       "      <td>30.00</td>\n",
       "    </tr>\n",
       "    <tr>\n",
       "      <th>210</th>\n",
       "      <td>FedEx</td>\n",
       "      <td>Express</td>\n",
       "      <td>4</td>\n",
       "      <td>25.00</td>\n",
       "    </tr>\n",
       "    <tr>\n",
       "      <th>211</th>\n",
       "      <td>DHL</td>\n",
       "      <td>Priority</td>\n",
       "      <td>4</td>\n",
       "      <td>25.00</td>\n",
       "    </tr>\n",
       "    <tr>\n",
       "      <th>212</th>\n",
       "      <td>OnTrac</td>\n",
       "      <td>Ground</td>\n",
       "      <td>4</td>\n",
       "      <td>25.00</td>\n",
       "    </tr>\n",
       "    <tr>\n",
       "      <th>213</th>\n",
       "      <td>GLS</td>\n",
       "      <td>Economy</td>\n",
       "      <td>4</td>\n",
       "      <td>25.00</td>\n",
       "    </tr>\n",
       "  </tbody>\n",
       "</table>\n",
       "<p>214 rows × 4 columns</p>\n",
       "</div>"
      ],
      "text/plain": [
       "    Carrier Name Service Level  Weight (lbs)  Charge ($)\n",
       "0            UPS        Ground            11       11.25\n",
       "1          FedEx        Ground             5        5.50\n",
       "2            OSM      Same day            12        7.50\n",
       "3            UPS        Ground            11       11.25\n",
       "4            GLS  Next Day Air             7        9.00\n",
       "..           ...           ...           ...         ...\n",
       "209          UPS      Standard             5       30.00\n",
       "210        FedEx       Express             4       25.00\n",
       "211          DHL      Priority             4       25.00\n",
       "212       OnTrac        Ground             4       25.00\n",
       "213          GLS       Economy             4       25.00\n",
       "\n",
       "[214 rows x 4 columns]"
      ]
     },
     "execution_count": 274,
     "metadata": {},
     "output_type": "execute_result"
    }
   ],
   "source": [
    "df_plot"
   ]
  },
  {
   "cell_type": "code",
   "execution_count": 275,
   "id": "a39fa214",
   "metadata": {},
   "outputs": [
    {
     "data": {
      "text/plain": [
       "Weight (lbs)\n",
       "4     4207.75\n",
       "5      583.25\n",
       "6      206.00\n",
       "7       53.00\n",
       "8       57.00\n",
       "9       34.25\n",
       "10      18.00\n",
       "11      22.50\n",
       "12      15.75\n",
       "Name: Charge ($), dtype: float64"
      ]
     },
     "execution_count": 275,
     "metadata": {},
     "output_type": "execute_result"
    }
   ],
   "source": [
    "weight_plot = df_plot.groupby('Weight (lbs)')['Charge ($)'].sum()\n",
    "weight_plot"
   ]
  },
  {
   "cell_type": "code",
   "execution_count": 276,
   "id": "cd119df3",
   "metadata": {},
   "outputs": [
    {
     "data": {
      "image/png": "[encoded data removed]",
      "text/plain": [
       "<Figure size 640x480 with 1 Axes>"
      ]
     },
     "metadata": {},
     "output_type": "display_data"
    }
   ],
   "source": [
    "# Sort the grouped data by mean charge in ascending order\n",
    "grouped_data_sorted = weight_plot.sort_values()\n",
    "\n",
    "# Plot bar chart\n",
    "grouped_data_sorted.plot(kind='bar', color='skyblue')\n",
    "plt.xlabel('Weight (lbs)')\n",
    "plt.ylabel('Sum of Charges($)')\n",
    "plt.title('Charges of parcel for Weight')\n",
    "plt.xticks(rotation=45, ha='right')  # Rotate x-axis labels for better readability\n",
    "plt.tight_layout()  # Adjust layout to prevent clipping of labels\n",
    "plt.show()"
   ]
  },
  {
   "cell_type": "code",
   "execution_count": 277,
   "id": "155e819a",
   "metadata": {},
   "outputs": [
    {
     "data": {
      "text/plain": [
       "Service Level\n",
       "Economy         1089.50\n",
       "Expedited         25.50\n",
       "Express         1110.00\n",
       "Ground          1205.00\n",
       "Next Day Air      42.50\n",
       "Priority         581.25\n",
       "Same day          33.25\n",
       "Standard        1110.50\n",
       "Name: Charge ($), dtype: float64"
      ]
     },
     "execution_count": 277,
     "metadata": {},
     "output_type": "execute_result"
    }
   ],
   "source": [
    "service_plot = df_plot.groupby('Service Level')['Charge ($)'].sum()\n",
    "service_plot"
   ]
  },
  {
   "cell_type": "code",
   "execution_count": 289,
   "id": "a2e674c7",
   "metadata": {},
   "outputs": [
    {
     "data": {
      "image/png": "[encoded data removed]",
      "text/plain": [
       "<Figure size 640x480 with 1 Axes>"
      ]
     },
     "metadata": {},
     "output_type": "display_data"
    }
   ],
   "source": [
    "# Sort the grouped data by mean charge in ascending order\n",
    "grouped_data_sorted = service_plot.sort_values()\n",
    "\n",
    "# Plot bar chart\n",
    "grouped_data_sorted.plot(kind='bar', color='lightpink')\n",
    "plt.xlabel('Service Level')\n",
    "plt.ylabel('Sum of Charges($)')\n",
    "plt.title('Service Level Charges')\n",
    "plt.xticks(rotation=45, ha='right')  # Rotate x-axis labels for better readability\n",
    "plt.tight_layout()  # Adjust layout to prevent clipping of labels\n",
    "plt.show()"
   ]
  },
  {
   "cell_type": "code",
   "execution_count": 279,
   "id": "27d5da3d",
   "metadata": {},
   "outputs": [
    {
     "data": {
      "text/plain": [
       "Service Level\n",
       "Economy         42\n",
       "Expedited        1\n",
       "Express         43\n",
       "Ground          55\n",
       "Next Day Air     4\n",
       "Priority        23\n",
       "Same day         4\n",
       "Standard        42\n",
       "Name: Carrier Name, dtype: int64"
      ]
     },
     "execution_count": 279,
     "metadata": {},
     "output_type": "execute_result"
    }
   ],
   "source": [
    "carrier_plot = df_plot.groupby('Service Level')['Carrier Name'].count()\n",
    "carrier_plot"
   ]
  },
  {
   "cell_type": "code",
   "execution_count": 280,
   "id": "5fff9a03",
   "metadata": {},
   "outputs": [
    {
     "data": {
      "image/png": "[encoded data removed]",
      "text/plain": [
       "<Figure size 640x480 with 1 Axes>"
      ]
     },
     "metadata": {},
     "output_type": "display_data"
    }
   ],
   "source": [
    "# Sort the grouped data by mean charge in ascending order\n",
    "grouped_data_sorted = carrier_plot.sort_values()\n",
    "\n",
    "# Plot bar chart\n",
    "grouped_data_sorted.plot(kind='bar', color='skyblue')\n",
    "plt.xlabel('Service Level')\n",
    "plt.ylabel('Carrier Count')\n",
    "plt.title('Count of Service Level')\n",
    "plt.xticks(rotation=45, ha='right')  # Rotate x-axis labels for better readability\n",
    "plt.tight_layout()  # Adjust layout to prevent clipping of labels\n",
    "plt.show()"
   ]
  },
  {
   "cell_type": "code",
   "execution_count": 282,
   "id": "9e215024",
   "metadata": {},
   "outputs": [
    {
     "data": {
      "text/plain": [
       "Carrier Name\n",
       "BetterTrucks    526.50\n",
       "DHL             554.50\n",
       "FedEx           452.50\n",
       "GLS             452.00\n",
       "Maergo          429.25\n",
       "OSM             500.50\n",
       "OnTrac          515.75\n",
       "Pandion         501.75\n",
       "UPS             275.00\n",
       "Name: Charge ($), dtype: float64"
      ]
     },
     "execution_count": 282,
     "metadata": {},
     "output_type": "execute_result"
    }
   ],
   "source": [
    "parcel_4lbs = df_plot['Weight (lbs)'] == 4\n",
    "\n",
    "carrier_parcel_4lbs = df_plot[parcel_4lbs].groupby('Carrier Name')['Charge ($)'].sum()\n",
    "carrier_parcel_4lbs\n",
    "#parcel4"
   ]
  },
  {
   "cell_type": "code",
   "execution_count": 290,
   "id": "10035cf4",
   "metadata": {},
   "outputs": [
    {
     "data": {
      "image/png": "[encoded data removed]",
      "text/plain": [
       "<Figure size 640x480 with 1 Axes>"
      ]
     },
     "metadata": {},
     "output_type": "display_data"
    }
   ],
   "source": [
    "# Sort the grouped data by mean charge in ascending order\n",
    "grouped_data_sorted = carrier_parcel_4lbs.sort_values()\n",
    "\n",
    "# Plot bar chart\n",
    "grouped_data_sorted.plot(kind='bar', color='lightgreen')\n",
    "plt.xlabel('Carrier Name')\n",
    "plt.ylabel('Charge ($)')\n",
    "plt.title('Charges of Carrier for Parcel 4lbs')\n",
    "plt.xticks(rotation=45, ha='right')  # Rotate x-axis labels for better readability\n",
    "plt.tight_layout()  # Adjust layout to prevent clipping of labels\n",
    "plt.show()"
   ]
  },
  {
   "cell_type": "code",
   "execution_count": 285,
   "id": "6bee6b97",
   "metadata": {},
   "outputs": [
    {
     "data": {
      "text/plain": [
       "Carrier Name\n",
       "FedEx       95.50\n",
       "GLS         37.75\n",
       "Maergo     120.00\n",
       "Pandion     30.00\n",
       "UPS        300.00\n",
       "Name: Charge ($), dtype: float64"
      ]
     },
     "execution_count": 285,
     "metadata": {},
     "output_type": "execute_result"
    }
   ],
   "source": [
    "parcel_5lbs = df_plot['Weight (lbs)'] == 5\n",
    "carrier_parcel_5lbs = df_plot[parcel_5lbs].groupby('Carrier Name')['Charge ($)'].sum()\n",
    "carrier_parcel_5lbs"
   ]
  },
  {
   "cell_type": "code",
   "execution_count": 291,
   "id": "89301030",
   "metadata": {},
   "outputs": [
    {
     "data": {
      "image/png": "[encoded data removed]",
      "text/plain": [
       "<Figure size 640x480 with 1 Axes>"
      ]
     },
     "metadata": {},
     "output_type": "display_data"
    }
   ],
   "source": [
    "# Sort the grouped data by mean charge in ascending order\n",
    "grouped_data_sorted = carrier_parcel_5lbs.sort_values()\n",
    "\n",
    "# Plot bar chart\n",
    "grouped_data_sorted.plot(kind='bar', color='lightgreen')\n",
    "plt.xlabel('Carrier Name')\n",
    "plt.ylabel('Charge ($)')\n",
    "plt.title('Charges of Carrier for Parcel 5lbs')\n",
    "plt.xticks(rotation=45, ha='right')  # Rotate x-axis labels for better readability\n",
    "plt.tight_layout()  # Adjust layout to prevent clipping of labels\n",
    "plt.show()"
   ]
  },
  {
   "cell_type": "code",
   "execution_count": 287,
   "id": "82ede6b6",
   "metadata": {},
   "outputs": [
    {
     "data": {
      "text/plain": [
       "Service Level\n",
       "Economy     120.00\n",
       "Express     120.00\n",
       "Ground       43.25\n",
       "Standard    300.00\n",
       "Name: Charge ($), dtype: float64"
      ]
     },
     "execution_count": 287,
     "metadata": {},
     "output_type": "execute_result"
    }
   ],
   "source": [
    "parcel_5lbs = df_plot['Weight (lbs)'] == 5\n",
    "service_parcel_5lbs = df_plot[parcel_5lbs].groupby('Service Level')['Charge ($)'].sum()\n",
    "service_parcel_5lbs"
   ]
  },
  {
   "cell_type": "code",
   "execution_count": 292,
   "id": "81b4fb2e",
   "metadata": {},
   "outputs": [
    {
     "data": {
      "image/png": "[encoded data removed]",
      "text/plain": [
       "<Figure size 640x480 with 1 Axes>"
      ]
     },
     "metadata": {},
     "output_type": "display_data"
    }
   ],
   "source": [
    "# Sort the grouped data by mean charge in ascending order\n",
    "grouped_data_sorted = service_parcel_5lbs.sort_values()\n",
    "\n",
    "# Plot bar chart\n",
    "grouped_data_sorted.plot(kind='bar', color='lightgreen')\n",
    "plt.xlabel('Carrier Name')\n",
    "plt.ylabel('Charge ($)')\n",
    "plt.title('Charges of Carrier Parcel 5lbs')\n",
    "plt.xticks(rotation=45, ha='right')  # Rotate x-axis labels for better readability\n",
    "plt.tight_layout()  # Adjust layout to prevent clipping of labels\n",
    "plt.show()"
   ]
  },
  {
   "cell_type": "code",
   "execution_count": null,
   "id": "846fd7ca",
   "metadata": {},
   "outputs": [],
   "source": []
  }
 ],
 "metadata": {
  "kernelspec": {
   "display_name": "Python 3 (ipykernel)",
   "language": "python",
   "name": "python3"
  },
  "language_info": {
   "codemirror_mode": {
    "name": "ipython",
    "version": 3
   },
   "file_extension": ".py",
   "mimetype": "text/x-python",
   "name": "python",
   "nbconvert_exporter": "python",
   "pygments_lexer": "ipython3",
   "version": "3.11.5"
  }
 },
 "nbformat": 4,
 "nbformat_minor": 5
}
